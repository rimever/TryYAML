{
 "cells": [
  {
   "cell_type": "code",
   "execution_count": 1,
   "metadata": {
    "collapsed": true
   },
   "outputs": [],
   "source": [
    "import yaml"
   ]
  },
  {
   "cell_type": "code",
   "execution_count": 3,
   "metadata": {
    "collapsed": false
   },
   "outputs": [
    {
     "data": {
      "text/plain": [
       "{'paper': {'author': 'Kurt Gödel.',\n",
       "  'name': 'On formally undecidable propositions of  Principia Mathematica and related systems I.',\n",
       "  'uuid': '8a8cbf60-e067-11e3-8b68-0800200c9a66'},\n",
       " 'tags': [{'tag': {'name': 'Mathematics',\n",
       "    'uuid': '98fb0d90-e067-11e3-8b68-0800200c9a66'}},\n",
       "  {'tag': {'name': 'Logic', 'uuid': '3f25f680-e068-11e3-8b68-0800200c9a66'}}]}"
      ]
     },
     "execution_count": 3,
     "metadata": {},
     "output_type": "execute_result"
    }
   ],
   "source": [
    "yaml.load('''\n",
    "paper:\n",
    "   uuid: 8a8cbf60-e067-11e3-8b68-0800200c9a66\n",
    "   name: On formally undecidable propositions of  Principia Mathematica and related systems I.\n",
    "   author: Kurt Gödel.\n",
    "tags:\n",
    "   - tag:\n",
    "      uuid: 98fb0d90-e067-11e3-8b68-0800200c9a66\n",
    "      name: Mathematics\n",
    "   - tag:\n",
    "      uuid: 3f25f680-e068-11e3-8b68-0800200c9a66\n",
    "      name: Logic\n",
    "''')"
   ]
  },
  {
   "cell_type": "code",
   "execution_count": null,
   "metadata": {
    "collapsed": true
   },
   "outputs": [],
   "source": []
  }
 ],
 "metadata": {
  "kernelspec": {
   "display_name": "Python 3",
   "language": "python",
   "name": "python3"
  },
  "language_info": {
   "codemirror_mode": {
    "name": "ipython",
    "version": 3
   },
   "file_extension": ".py",
   "mimetype": "text/x-python",
   "name": "python",
   "nbconvert_exporter": "python",
   "pygments_lexer": "ipython3",
   "version": "3.5.1"
  }
 },
 "nbformat": 4,
 "nbformat_minor": 0
}
