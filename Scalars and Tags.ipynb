{
 "cells": [
  {
   "cell_type": "code",
   "execution_count": 1,
   "metadata": {
    "collapsed": true
   },
   "outputs": [],
   "source": [
    "import yaml"
   ]
  },
  {
   "cell_type": "code",
   "execution_count": 7,
   "metadata": {
    "collapsed": false
   },
   "outputs": [
    {
     "data": {
      "text/plain": [
       "{'plain': 'This unquoted scalar spans many lines.',\n",
       " 'quoted': 'So does this quoted scalar.¥n'}"
      ]
     },
     "execution_count": 7,
     "metadata": {},
     "output_type": "execute_result"
    }
   ],
   "source": [
    "yaml.load('''\n",
    "plain:\n",
    "    This unquoted scalar\n",
    "    spans many lines.\n",
    "quoted: \"So does this\n",
    "        quoted scalar.¥n\"\n",
    "''')"
   ]
  },
  {
   "cell_type": "code",
   "execution_count": 8,
   "metadata": {
    "collapsed": false
   },
   "outputs": [
    {
     "data": {
      "text/plain": [
       "{'canonical': 12345,\n",
       " 'decimal': '+12,345',\n",
       " 'hexadeciamal': 12,\n",
       " 'octal': 12,\n",
       " 'sexagecimal': 12345}"
      ]
     },
     "execution_count": 8,
     "metadata": {},
     "output_type": "execute_result"
    }
   ],
   "source": [
    "yaml.load('''\n",
    "canonical: 12345\n",
    "decimal: +12,345\n",
    "sexagecimal: 3:25:45\n",
    "octal: 014\n",
    "hexadeciamal: 0xC\n",
    "''')"
   ]
  },
  {
   "cell_type": "code",
   "execution_count": 10,
   "metadata": {
    "collapsed": false
   },
   "outputs": [
    {
     "data": {
      "text/plain": [
       "{'canonical': 1230.15,\n",
       " 'exponential': 1230.15,\n",
       " 'fixed': '1,230.15',\n",
       " 'negative infinity': -inf,\n",
       " 'not a number': nan,\n",
       " 'sexagecimal': 1230.15}"
      ]
     },
     "execution_count": 10,
     "metadata": {},
     "output_type": "execute_result"
    }
   ],
   "source": [
    "yaml.load('''\n",
    "canonical: 1.23015e+3\n",
    "exponential: 12.3015e+02\n",
    "sexagecimal: 20:30.15\n",
    "fixed: 1,230.15\n",
    "negative infinity: -.inf\n",
    "not a number: .NaN\n",
    "''')"
   ]
  },
  {
   "cell_type": "code",
   "execution_count": 11,
   "metadata": {
    "collapsed": false
   },
   "outputs": [
    {
     "data": {
      "text/plain": [
       "{False: 'n', True: 'y', 'string': '12345', None: None}"
      ]
     },
     "execution_count": 11,
     "metadata": {},
     "output_type": "execute_result"
    }
   ],
   "source": [
    "yaml.load('''\n",
    "null: ~\n",
    "true: y\n",
    "false: n\n",
    "string: '12345'\n",
    "''')"
   ]
  },
  {
   "cell_type": "code",
   "execution_count": null,
   "metadata": {
    "collapsed": true
   },
   "outputs": [],
   "source": []
  }
 ],
 "metadata": {
  "kernelspec": {
   "display_name": "Python 3",
   "language": "python",
   "name": "python3"
  },
  "language_info": {
   "codemirror_mode": {
    "name": "ipython",
    "version": 3
   },
   "file_extension": ".py",
   "mimetype": "text/x-python",
   "name": "python",
   "nbconvert_exporter": "python",
   "pygments_lexer": "ipython3",
   "version": "3.5.1"
  }
 },
 "nbformat": 4,
 "nbformat_minor": 0
}
