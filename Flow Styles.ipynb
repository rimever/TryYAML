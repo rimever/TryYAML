{
 "cells": [
  {
   "cell_type": "code",
   "execution_count": 1,
   "metadata": {
    "collapsed": true
   },
   "outputs": [],
   "source": [
    "import yaml"
   ]
  },
  {
   "cell_type": "code",
   "execution_count": 2,
   "metadata": {
    "collapsed": false
   },
   "outputs": [
    {
     "data": {
      "text/plain": [
       "{'First occurrence': 'Foo',\n",
       " 'Override anchor': 'Bar',\n",
       " 'Reuse anchor': 'Bar',\n",
       " 'Second occurrence': 'Foo'}"
      ]
     },
     "execution_count": 2,
     "metadata": {},
     "output_type": "execute_result"
    }
   ],
   "source": [
    "yaml.load('''\n",
    "%YAML 1.2\n",
    "---\n",
    "!!map {\n",
    "   ? !!str \"First occurrence\"\n",
    "   : &A !!str \"Foo\",\n",
    "   ? !!str \"Override anchor\"\n",
    "   : &B !!str \"Bar\",\n",
    "   ? !!str \"Second occurrence\"\n",
    "   : *A,\n",
    "   ? !!str \"Reuse anchor\"\n",
    "   : *B,\n",
    "}\n",
    "''')"
   ]
  },
  {
   "cell_type": "code",
   "execution_count": 3,
   "metadata": {
    "collapsed": false
   },
   "outputs": [
    {
     "data": {
      "text/plain": [
       "{'': 'bar', 'foo': ''}"
      ]
     },
     "execution_count": 3,
     "metadata": {},
     "output_type": "execute_result"
    }
   ],
   "source": [
    "yaml.load('''\n",
    "%YAML 1.2\n",
    "---\n",
    "!!map {\n",
    "    ? !!str \"foo\" : !!str \"\",\n",
    "    ? !!str \"\" : !!str \"bar\",\n",
    "    }\n",
    "''')"
   ]
  },
  {
   "cell_type": "code",
   "execution_count": 8,
   "metadata": {
    "collapsed": false
   },
   "outputs": [
    {
     "data": {
      "text/plain": [
       "{'implicit block key': [{'implicit flow key': 'value'}]}"
      ]
     },
     "execution_count": 8,
     "metadata": {},
     "output_type": "execute_result"
    }
   ],
   "source": [
    "yaml.load('''\n",
    "%YAML 1.2\n",
    "---\n",
    "!!map {\n",
    "    ? !!str \"implicit block key\"\n",
    "    : !!seq [\n",
    "        !!map {\n",
    "            ? !!str \"implicit flow key\"\n",
    "            : !!str \"value\",\n",
    "        }\n",
    "    ]\n",
    "}\n",
    "''')"
   ]
  },
  {
   "cell_type": "code",
   "execution_count": 10,
   "metadata": {
    "collapsed": false
   },
   "outputs": [
    {
     "data": {
      "text/plain": [
       "[['one', 'two'], ['three', 'four']]"
      ]
     },
     "execution_count": 10,
     "metadata": {},
     "output_type": "execute_result"
    }
   ],
   "source": [
    "yaml.load('''\n",
    "%YAML 1.2\n",
    "---\n",
    "!!seq [\n",
    "    !!seq [\n",
    "        !!str \"one\",\n",
    "        !!str \"two\",\n",
    "    ],\n",
    "    !!seq [\n",
    "        !!str \"three\",\n",
    "        !!str \"four\",\n",
    "    ],\n",
    "]\n",
    "''')\n",
    "        "
   ]
  },
  {
   "cell_type": "code",
   "execution_count": 11,
   "metadata": {
    "collapsed": false
   },
   "outputs": [
    {
     "data": {
      "text/plain": [
       "[['a', 'b'], {'a': 'b'}, 'a', 'b', 'c']"
      ]
     },
     "execution_count": 11,
     "metadata": {},
     "output_type": "execute_result"
    }
   ],
   "source": [
    "yaml.load('''\n",
    "%YAML 1.2\n",
    "---\n",
    "!!seq [\n",
    "!!seq [ !!str \"a\", !!str \"b\" ],\n",
    "!!map { ? !!str \"a\" : !!str \"b\" },\n",
    "!!str \"a\",\n",
    "!!str \"b\",\n",
    "!!str \"c\",]\n",
    "''')"
   ]
  },
  {
   "cell_type": "code",
   "execution_count": null,
   "metadata": {
    "collapsed": true
   },
   "outputs": [],
   "source": []
  }
 ],
 "metadata": {
  "kernelspec": {
   "display_name": "Python 3",
   "language": "python",
   "name": "python3"
  },
  "language_info": {
   "codemirror_mode": {
    "name": "ipython",
    "version": 3
   },
   "file_extension": ".py",
   "mimetype": "text/x-python",
   "name": "python",
   "nbconvert_exporter": "python",
   "pygments_lexer": "ipython3",
   "version": "3.5.1"
  }
 },
 "nbformat": 4,
 "nbformat_minor": 0
}
