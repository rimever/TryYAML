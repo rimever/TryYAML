{
 "cells": [
  {
   "cell_type": "code",
   "execution_count": 2,
   "metadata": {
    "collapsed": true
   },
   "outputs": [],
   "source": [
    "import yaml"
   ]
  },
  {
   "cell_type": "code",
   "execution_count": 3,
   "metadata": {
    "collapsed": false
   },
   "outputs": [
    {
     "data": {
      "text/plain": [
       "{'defaults': {'adapter': 'postgres', 'host': 'localhost'},\n",
       " 'development': {'adapter': 'postgres',\n",
       "  'database': 'myapp_development',\n",
       "  'host': 'localhost'},\n",
       " 'test': {'adapter': 'postgres',\n",
       "  'database': 'myapp_test',\n",
       "  'host': 'localhost'}}"
      ]
     },
     "execution_count": 3,
     "metadata": {},
     "output_type": "execute_result"
    }
   ],
   "source": [
    "yaml.load('''\n",
    "defaults: &defaults\n",
    "    adapter: postgres\n",
    "    host: localhost\n",
    "development:\n",
    "    database: myapp_development\n",
    "    <<: *defaults\n",
    "test:\n",
    "    database: myapp_test\n",
    "    <<: *defaults\n",
    "''')"
   ]
  },
  {
   "cell_type": "code",
   "execution_count": null,
   "metadata": {
    "collapsed": true
   },
   "outputs": [],
   "source": []
  }
 ],
 "metadata": {
  "kernelspec": {
   "display_name": "Python 3",
   "language": "python",
   "name": "python3"
  },
  "language_info": {
   "codemirror_mode": {
    "name": "ipython",
    "version": 3
   },
   "file_extension": ".py",
   "mimetype": "text/x-python",
   "name": "python",
   "nbconvert_exporter": "python",
   "pygments_lexer": "ipython3",
   "version": "3.5.1"
  }
 },
 "nbformat": 4,
 "nbformat_minor": 0
}
