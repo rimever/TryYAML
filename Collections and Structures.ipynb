{
 "cells": [
  {
   "cell_type": "code",
   "execution_count": 2,
   "metadata": {
    "collapsed": false
   },
   "outputs": [
    {
     "data": {
      "text/plain": [
       "['Mark Joseph', 'James Stephen', 'Ken Griffey']"
      ]
     },
     "execution_count": 2,
     "metadata": {},
     "output_type": "execute_result"
    }
   ],
   "source": [
    "import yaml\n",
    "\n",
    "yaml.load('''\n",
    "- Mark Joseph\n",
    "- James Stephen\n",
    "- Ken Griffey\n",
    "''')"
   ]
  },
  {
   "cell_type": "code",
   "execution_count": 2,
   "metadata": {
    "collapsed": false
   },
   "outputs": [
    {
     "data": {
      "text/plain": [
       "{'avg': 0.298, 'hr': 87, 'rbi': 149}"
      ]
     },
     "execution_count": 2,
     "metadata": {},
     "output_type": "execute_result"
    }
   ],
   "source": [
    "yaml.load('''\n",
    "hr: 87\n",
    "avg:  0.298\n",
    "rbi: 149\n",
    "''')"
   ]
  },
  {
   "cell_type": "code",
   "execution_count": 3,
   "metadata": {
    "collapsed": false
   },
   "outputs": [
    {
     "data": {
      "text/plain": [
       "{'European': ['Boston Red Sox', 'Detroit Tigers', 'New York Yankees'],\n",
       " 'National': ['New York Mets', 'Chicago Cubs', 'Atlanta Braves']}"
      ]
     },
     "execution_count": 3,
     "metadata": {},
     "output_type": "execute_result"
    }
   ],
   "source": [
    "yaml.load('''\n",
    "European:\n",
    "- Boston Red Sox\n",
    "- Detroit Tigers\n",
    "- New York Yankees\n",
    "\n",
    "National:\n",
    "- New York Mets\n",
    "- Chicago Cubs\n",
    "- Atlanta Braves\n",
    "''')"
   ]
  },
  {
   "cell_type": "code",
   "execution_count": 5,
   "metadata": {
    "collapsed": false
   },
   "outputs": [
    {
     "data": {
      "text/plain": [
       "[{'avg': 0.278, 'hr': 87, 'name': 'Mark Joseph'},\n",
       " {'avg': 0.288, 'hr': 63, 'name': 'James Stephen'}]"
      ]
     },
     "execution_count": 5,
     "metadata": {},
     "output_type": "execute_result"
    }
   ],
   "source": [
    "yaml.load('''\n",
    "-\n",
    "    name: Mark Joseph\n",
    "    hr: 87\n",
    "    avg: 0.278\n",
    "-\n",
    "    name: James Stephen\n",
    "    hr: 63\n",
    "    avg: 0.288\n",
    "''')"
   ]
  },
  {
   "cell_type": "code",
   "execution_count": null,
   "metadata": {
    "collapsed": true
   },
   "outputs": [],
   "source": []
  }
 ],
 "metadata": {
  "kernelspec": {
   "display_name": "Python 3",
   "language": "python",
   "name": "python3"
  },
  "language_info": {
   "codemirror_mode": {
    "name": "ipython",
    "version": 3
   },
   "file_extension": ".py",
   "mimetype": "text/x-python",
   "name": "python",
   "nbconvert_exporter": "python",
   "pygments_lexer": "ipython3",
   "version": "3.5.1"
  }
 },
 "nbformat": 4,
 "nbformat_minor": 0
}
