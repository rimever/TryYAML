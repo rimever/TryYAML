{
 "cells": [
  {
   "cell_type": "code",
   "execution_count": 1,
   "metadata": {
    "collapsed": true
   },
   "outputs": [],
   "source": [
    "import yaml"
   ]
  },
  {
   "cell_type": "code",
   "execution_count": 6,
   "metadata": {
    "collapsed": false
   },
   "outputs": [
    {
     "data": {
      "text/plain": [
       "{'Block style': ['Mercury',\n",
       "  'Venus',\n",
       "  'Earth',\n",
       "  'Mars',\n",
       "  'Jupiter',\n",
       "  'Saturn',\n",
       "  'Uranus',\n",
       "  'Neptune',\n",
       "  'Pluto'],\n",
       " 'Flow style': ['Mercury',\n",
       "  'Venus',\n",
       "  'Earth',\n",
       "  'Mars',\n",
       "  'Jupiter',\n",
       "  'Saturn',\n",
       "  'Uranus',\n",
       "  'Neptune',\n",
       "  'Pluto']}"
      ]
     },
     "execution_count": 6,
     "metadata": {},
     "output_type": "execute_result"
    }
   ],
   "source": [
    "yaml.load('''\n",
    "# Ordered sequence of nodes in YAML STRUCTURE\n",
    "Block style: !!seq\n",
    "- Mercury   # Rotates - no light/dark sides.\n",
    "- Venus     # Deadliest. Aptly named.\n",
    "- Earth     # Mostly dirt.\n",
    "- Mars      # Seems empty.\n",
    "- Jupiter   # The king.\n",
    "- Saturn    # Pretty.\n",
    "- Uranus    # Where the sun hardly shines.\n",
    "- Neptune   # Boring. No rings.\n",
    "- Pluto     # You call this a planet?\n",
    "Flow style: !!seq [ Mercury, Venus, Earth, Mars,      # Rocks\n",
    "                    Jupiter, Saturn, Uranus, Neptune, # Gas\n",
    "                    Pluto ]                           # Overrated\n",
    "''')"
   ]
  },
  {
   "cell_type": "code",
   "execution_count": null,
   "metadata": {
    "collapsed": true
   },
   "outputs": [],
   "source": []
  }
 ],
 "metadata": {
  "kernelspec": {
   "display_name": "Python 3",
   "language": "python",
   "name": "python3"
  },
  "language_info": {
   "codemirror_mode": {
    "name": "ipython",
    "version": 3
   },
   "file_extension": ".py",
   "mimetype": "text/x-python",
   "name": "python",
   "nbconvert_exporter": "python",
   "pygments_lexer": "ipython3",
   "version": "3.5.1"
  }
 },
 "nbformat": 4,
 "nbformat_minor": 0
}
