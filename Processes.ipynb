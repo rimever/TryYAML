{
 "cells": [
  {
   "cell_type": "code",
   "execution_count": 1,
   "metadata": {
    "collapsed": true
   },
   "outputs": [],
   "source": [
    "import yaml"
   ]
  },
  {
   "cell_type": "code",
   "execution_count": 2,
   "metadata": {
    "collapsed": false
   },
   "outputs": [
    {
     "data": {
      "text/plain": [
       "{'product': [{'description': 'Football',\n",
       "   'price': 450.0,\n",
       "   'quantity': 4,\n",
       "   'sku': 'BL394D'},\n",
       "  {'description': 'Super Hoop',\n",
       "   'price': 2392.0,\n",
       "   'quantity': 1,\n",
       "   'sku': 'BL4438H'}]}"
      ]
     },
     "execution_count": 2,
     "metadata": {},
     "output_type": "execute_result"
    }
   ],
   "source": [
    "yaml.load('''\n",
    "product:\n",
    "    - sku         : BL394D\n",
    "      quantity    : 4\n",
    "      description : Football\n",
    "      price       : 450.00\n",
    "    - sku         : BL4438H\n",
    "      quantity    : 1\n",
    "      description : Super Hoop\n",
    "      price       : 2392.00\n",
    "''')"
   ]
  },
  {
   "cell_type": "code",
   "execution_count": 3,
   "metadata": {
    "collapsed": false
   },
   "outputs": [
    {
     "data": {
      "text/plain": [
       "{'batchLImit': 1000,\n",
       " 'key': 'value',\n",
       " 'keyMapping': '<What goes here?>',\n",
       " 'thredCountLimit': 2}"
      ]
     },
     "execution_count": 3,
     "metadata": {},
     "output_type": "execute_result"
    }
   ],
   "source": [
    "yaml.load('''\n",
    "batchLImit: 1000\n",
    "thredCountLimit: 2\n",
    "key: value\n",
    "keyMapping: <What goes here?>\n",
    "''')"
   ]
  },
  {
   "cell_type": "code",
   "execution_count": 4,
   "metadata": {
    "collapsed": false
   },
   "outputs": [
    {
     "data": {
      "text/plain": [
       "{'consumer': {'attributes': {'filters': ['customer.search',\n",
       "    'customer.order',\n",
       "    'customer.boolean']},\n",
       "  'class': 'AppBundle\\\\Entity\\\\consumer',\n",
       "  'collectionOperations': {'get': {'method': 'GET',\n",
       "    'normalization_context': {'groups': ['customer_list']}}},\n",
       "  'itemOperations': {'get': {'method': 'GET',\n",
       "    'normalization_context': {'groups': ['customer_get']}}}}}"
      ]
     },
     "execution_count": 4,
     "metadata": {},
     "output_type": "execute_result"
    }
   ],
   "source": [
    "yaml.load('''\n",
    "consumer:\n",
    "    class: 'AppBundle\\Entity\\consumer'\n",
    "    attributes:\n",
    "        filters: ['customer.search', 'customer.order', 'customer.boolean']\n",
    "    collectionOperations:\n",
    "        get:\n",
    "            method: 'GET'\n",
    "            normalization_context:\n",
    "                groups: ['customer_list']\n",
    "    itemOperations:\n",
    "            get:\n",
    "                method: 'GET'\n",
    "                normalization_context:\n",
    "                    groups: ['customer_get']\n",
    "''')"
   ]
  },
  {
   "cell_type": "code",
   "execution_count": null,
   "metadata": {
    "collapsed": true
   },
   "outputs": [],
   "source": []
  }
 ],
 "metadata": {
  "kernelspec": {
   "display_name": "Python 3",
   "language": "python",
   "name": "python3"
  },
  "language_info": {
   "codemirror_mode": {
    "name": "ipython",
    "version": 3
   },
   "file_extension": ".py",
   "mimetype": "text/x-python",
   "name": "python",
   "nbconvert_exporter": "python",
   "pygments_lexer": "ipython3",
   "version": "3.5.1"
  }
 },
 "nbformat": 4,
 "nbformat_minor": 0
}
