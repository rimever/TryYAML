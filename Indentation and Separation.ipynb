{
 "cells": [
  {
   "cell_type": "code",
   "execution_count": 2,
   "metadata": {
    "collapsed": false
   },
   "outputs": [],
   "source": [
    "import yaml"
   ]
  },
  {
   "cell_type": "code",
   "execution_count": 3,
   "metadata": {
    "collapsed": false
   },
   "outputs": [
    {
     "data": {
      "text/plain": [
       "{'a': {'b': ['c', 'd', 'e']}, 'f': 'ghi'}"
      ]
     },
     "execution_count": 3,
     "metadata": {},
     "output_type": "execute_result"
    }
   ],
   "source": [
    "yaml.load('''\n",
    "a:\n",
    "    b:\n",
    "        - c\n",
    "        -  d\n",
    "        - e\n",
    "f:\n",
    "        \"ghi\"\n",
    "''')"
   ]
  },
  {
   "cell_type": "code",
   "execution_count": 21,
   "metadata": {
    "collapsed": false
   },
   "outputs": [
    {
     "data": {
      "text/plain": [
       "{'bill-to': {'address': {'city': 'Royal Oak',\n",
       "   'lines': '458 Walkman Dr.\\nSuite #292\\n',\n",
       "   'postal': 48046,\n",
       "   'state': 'MI'},\n",
       "  'family': 'Dumars',\n",
       "  'given': 'Chris'},\n",
       " 'comments': 'Late afternoon is best. Backup contact is Nancy Billsmer @ 338-4338.\\n',\n",
       " 'date': datetime.date(2001, 1, 23),\n",
       " 'invoice': 34843,\n",
       " 'product': [{'description': 'Basketball',\n",
       "   'price': 2392.0,\n",
       "   'quantity': 4,\n",
       "   'sku': 'BL394D'},\n",
       "  {'description': 'Super Hoop',\n",
       "   'price': 2392.0,\n",
       "   'quantity': 1,\n",
       "   'sku': 'BL4438H'}],\n",
       " 'ship-to': {'address': {'city': 'Royal Oak',\n",
       "   'lines': '458 Walkman Dr.\\nSuite #292\\n',\n",
       "   'postal': 48046,\n",
       "   'state': 'MI'},\n",
       "  'family': 'Dumars',\n",
       "  'given': 'Chris'},\n",
       " 'tax': 251.42,\n",
       " 'total': 4443.52}"
      ]
     },
     "execution_count": 21,
     "metadata": {},
     "output_type": "execute_result"
    }
   ],
   "source": [
    "yaml.load('''\n",
    "# --- !clarkevans.com/^invoice\n",
    "invoice: 34843\n",
    "date   : 2001-01-23\n",
    "bill-to: &id001\n",
    "   given  : Chris\n",
    "   family : Dumars\n",
    "   address:\n",
    "      lines: |\n",
    "            458 Walkman Dr.\n",
    "            Suite #292\n",
    "      city    : Royal Oak\n",
    "      state   : MI\n",
    "      postal  : 48046\n",
    "ship-to: *id001\n",
    "product:\n",
    "    - sku         : BL394D\n",
    "      quantity    : 4\n",
    "      description : Basketball\n",
    "      price       : 450.00\n",
    "      price       : 2392.00\n",
    "    - sku         : BL4438H\n",
    "      quantity    : 1\n",
    "      description : Super Hoop\n",
    "      price       : 2392.00\n",
    "tax  : 251.42\n",
    "total: 4443.52\n",
    "comments: >\n",
    "    Late afternoon is best.\n",
    "    Backup contact is Nancy\n",
    "    Billsmer @ 338-4338.\n",
    "''')"
   ]
  },
  {
   "cell_type": "code",
   "execution_count": null,
   "metadata": {
    "collapsed": true
   },
   "outputs": [],
   "source": []
  }
 ],
 "metadata": {
  "kernelspec": {
   "display_name": "Python 3",
   "language": "python",
   "name": "python3"
  },
  "language_info": {
   "codemirror_mode": {
    "name": "ipython",
    "version": 3
   },
   "file_extension": ".py",
   "mimetype": "text/x-python",
   "name": "python",
   "nbconvert_exporter": "python",
   "pygments_lexer": "ipython3",
   "version": "3.5.1"
  }
 },
 "nbformat": 4,
 "nbformat_minor": 0
}
