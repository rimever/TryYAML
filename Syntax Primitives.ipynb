{
 "cells": [
  {
   "cell_type": "code",
   "execution_count": 1,
   "metadata": {
    "collapsed": true
   },
   "outputs": [],
   "source": [
    "import yaml"
   ]
  },
  {
   "cell_type": "code",
   "execution_count": 2,
   "metadata": {
    "collapsed": false
   },
   "outputs": [
    {
     "data": {
      "text/plain": [
       "{'clip': 'text↓\\n', 'keep': 'text↓\\n', 'strip': 'text↓'}"
      ]
     },
     "execution_count": 2,
     "metadata": {},
     "output_type": "execute_result"
    }
   ],
   "source": [
    "yaml.load('''\n",
    "strip: |-\n",
    "   text↓\n",
    "clip: |\n",
    "   text↓\n",
    "keep: |+\n",
    "   text↓\n",
    "''')"
   ]
  },
  {
   "cell_type": "code",
   "execution_count": 3,
   "metadata": {
    "collapsed": false
   },
   "outputs": [
    {
     "data": {
      "text/plain": [
       "{'Not indented': {'By one space': 'By four spaces ',\n",
       "  'Flow style': ['By two', 'Still by two', 'Again by two']}}"
      ]
     },
     "execution_count": 3,
     "metadata": {},
     "output_type": "execute_result"
    }
   ],
   "source": [
    "yaml.load('''\n",
    "!!map {\n",
    "    ? !!str \"Not indented\"\n",
    "    : !!map {\n",
    "        ? !!str \"By one space\"\n",
    "        : !!str \"By four\\n spaces\\n\",\n",
    "        ? !!str \"Flow style\"\n",
    "        : !!seq [\n",
    "            !!str \"By two\",\n",
    "            !!str \"Still by two\",\n",
    "            !!str \"Again by two\",\n",
    "        ]\n",
    "    }\n",
    "}\n",
    "''')"
   ]
  },
  {
   "cell_type": "code",
   "execution_count": 5,
   "metadata": {
    "collapsed": false
   },
   "outputs": [
    {
     "data": {
      "text/plain": [
       "{'block': 'text·®lines ', 'plain': 'text lines', 'quoted': 'text lines'}"
      ]
     },
     "execution_count": 5,
     "metadata": {},
     "output_type": "execute_result"
    }
   ],
   "source": [
    "yaml.load('''\n",
    "    !!map {\n",
    "        ? !!str \"plain\"\n",
    "        : !!str \"text lines\",\n",
    "        ? !!str \"quoted\"\n",
    "        : !!str \"text lines\",\n",
    "        ? !!str \"block\"\n",
    "        : !!str \"text·®lines\\n\"\n",
    "        }\n",
    "''')"
   ]
  },
  {
   "cell_type": "code",
   "execution_count": 6,
   "metadata": {
    "collapsed": false
   },
   "outputs": [
    {
     "data": {
      "text/plain": [
       "'specific\\u2028trimmed\\n\\nas space'"
      ]
     },
     "execution_count": 6,
     "metadata": {},
     "output_type": "execute_result"
    }
   ],
   "source": [
    "yaml.load('''\n",
    "!!str\n",
    "\"specific\\L\\\n",
    "trimmed\\n\\n\\n\\\n",
    "as space\"\n",
    "''')"
   ]
  },
  {
   "cell_type": "code",
   "execution_count": null,
   "metadata": {
    "collapsed": true
   },
   "outputs": [],
   "source": []
  }
 ],
 "metadata": {
  "kernelspec": {
   "display_name": "Python 3",
   "language": "python",
   "name": "python3"
  },
  "language_info": {
   "codemirror_mode": {
    "name": "ipython",
    "version": 3
   },
   "file_extension": ".py",
   "mimetype": "text/x-python",
   "name": "python",
   "nbconvert_exporter": "python",
   "pygments_lexer": "ipython3",
   "version": "3.5.1"
  }
 },
 "nbformat": 4,
 "nbformat_minor": 0
}
